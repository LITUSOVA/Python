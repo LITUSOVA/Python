{
 "cells": [
  {
   "cell_type": "code",
   "execution_count": 8,
   "id": "8fdf39a9",
   "metadata": {},
   "outputs": [
    {
     "data": {
      "text/plain": [
       "(8.907759154076935, -19.017145602139102)"
      ]
     },
     "execution_count": 8,
     "metadata": {},
     "output_type": "execute_result"
    }
   ],
   "source": [
    "import numpy as np\n",
    "\n",
    "def polar2cart(r,phi):\n",
    "    x = r*math.cos(phi)\n",
    "    y = r*math.sin(phi)\n",
    "    return x,y\n",
    "\n",
    "polar2cart(21,24)"
   ]
  },
  {
   "cell_type": "code",
   "execution_count": null,
   "id": "69bef566",
   "metadata": {},
   "outputs": [],
   "source": []
  },
  {
   "cell_type": "code",
   "execution_count": null,
   "id": "82959c76",
   "metadata": {},
   "outputs": [],
   "source": []
  }
 ],
 "metadata": {
  "kernelspec": {
   "display_name": "Python 3 (ipykernel)",
   "language": "python",
   "name": "python3"
  },
  "language_info": {
   "codemirror_mode": {
    "name": "ipython",
    "version": 3
   },
   "file_extension": ".py",
   "mimetype": "text/x-python",
   "name": "python",
   "nbconvert_exporter": "python",
   "pygments_lexer": "ipython3",
   "version": "3.9.12"
  }
 },
 "nbformat": 4,
 "nbformat_minor": 5
}
