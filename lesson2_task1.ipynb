{
 "cells": [
  {
   "cell_type": "code",
   "execution_count": 1,
   "id": "f284b600",
   "metadata": {},
   "outputs": [],
   "source": [
    "#Напишите код на Python, реализующий расчет длины вектора, заданного его координатами"
   ]
  },
  {
   "cell_type": "code",
   "execution_count": 2,
   "id": "22b5aed5",
   "metadata": {},
   "outputs": [],
   "source": [
    "import math\n",
    "import numpy as np"
   ]
  },
  {
   "cell_type": "code",
   "execution_count": 3,
   "id": "72a834ac",
   "metadata": {},
   "outputs": [],
   "source": [
    "x=1\n",
    "y=2"
   ]
  },
  {
   "cell_type": "code",
   "execution_count": 4,
   "id": "da9ab8fd",
   "metadata": {},
   "outputs": [],
   "source": [
    "lenght = np.sqrt(x ** 2 + y ** 2 )"
   ]
  },
  {
   "cell_type": "code",
   "execution_count": 5,
   "id": "14905533",
   "metadata": {},
   "outputs": [
    {
     "name": "stdout",
     "output_type": "stream",
     "text": [
      "Length = 2.23606797749979\n"
     ]
    }
   ],
   "source": [
    "print('Length =', lenght)"
   ]
  },
  {
   "cell_type": "code",
   "execution_count": null,
   "id": "8de06489",
   "metadata": {},
   "outputs": [],
   "source": []
  }
 ],
 "metadata": {
  "kernelspec": {
   "display_name": "Python 3 (ipykernel)",
   "language": "python",
   "name": "python3"
  },
  "language_info": {
   "codemirror_mode": {
    "name": "ipython",
    "version": 3
   },
   "file_extension": ".py",
   "mimetype": "text/x-python",
   "name": "python",
   "nbconvert_exporter": "python",
   "pygments_lexer": "ipython3",
   "version": "3.9.12"
  }
 },
 "nbformat": 4,
 "nbformat_minor": 5
}
