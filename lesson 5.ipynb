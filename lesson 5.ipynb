{
 "cells": [
  {
   "cell_type": "code",
   "execution_count": 38,
   "id": "1c87dc0f",
   "metadata": {},
   "outputs": [],
   "source": [
    "import numpy as np\n",
    "import random\n",
    "import matplotlib.pyplot as plt\n",
    "import matplotlib.mlab as mlab\n",
    "import math"
   ]
  },
  {
   "cell_type": "code",
   "execution_count": 39,
   "id": "a19ce060",
   "metadata": {},
   "outputs": [
    {
     "data": {
      "text/plain": [
       "5"
      ]
     },
     "execution_count": 39,
     "metadata": {},
     "output_type": "execute_result"
    }
   ],
   "source": [
    "# Напишите код, моделирующий выпадение поля в рулетке (с учетом поля зеро)\n",
    "\n",
    "np.random.randint(0, 37)"
   ]
  },
  {
   "cell_type": "code",
   "execution_count": 40,
   "id": "93c2f081",
   "metadata": {},
   "outputs": [
    {
     "name": "stdout",
     "output_type": "stream",
     "text": [
      "P1 = 0.49 P2 = 0.51 P = 1.0\n"
     ]
    }
   ],
   "source": [
    "# Напишите код, \n",
    "# проверяющий любую из теорем сложения или умножения вероятности на примере рулетки или подбрасывания монетки\n",
    "\n",
    "a = 0\n",
    "b = 0\n",
    "p1 = 0\n",
    "p2 = 0\n",
    "\n",
    "for i in range(0, 100):\n",
    "    np.random.uniform(0, 100)\n",
    "    if i > 50:\n",
    "        a += 1\n",
    "       \n",
    "    else:\n",
    "        b += 1\n",
    "        \n",
    "p1 = a/100\n",
    "p2 = b/100\n",
    "p = p1 + p2\n",
    "print('P1 =', p1, 'P2 =', p2, 'P =', p)"
   ]
  },
  {
   "cell_type": "code",
   "execution_count": 41,
   "id": "366c9e45",
   "metadata": {
    "scrolled": true
   },
   "outputs": [
    {
     "data": {
      "text/plain": [
       "Text(0.5, 1.0, 'My Histogram')"
      ]
     },
     "execution_count": 41,
     "metadata": {},
     "output_type": "execute_result"
    },
    {
     "data": {
      "image/png": "[encoded data removed]",
      "text/plain": [
       "<Figure size 432x288 with 1 Axes>"
      ]
     },
     "metadata": {
      "needs_background": "light"
     },
     "output_type": "display_data"
    }
   ],
   "source": [
    "# Сгенерируйте десять выборок случайных чисел х0, …, х9 и\n",
    "# постройте гистограмму распределения случайной суммы  +х0+ …+ х 9\n",
    "\n",
    "x0 = np.random.randn(1000)\n",
    "x1 = np.random.randn(1000)\n",
    "x2 = np.random.randn(1000)\n",
    "x3 = np.random.randn(1000)\n",
    "x4 = np.random.randn(1000)\n",
    "x5 = np.random.randn(1000)\n",
    "x6 = np.random.randn(1000)\n",
    "x7 = np.random.randn(1000)\n",
    "x8 = np.random.randn(1000)\n",
    "x9 = np.random.randn(1000)\n",
    "my_sum = x0 + x1 + x2 + x3 + x4 + x5 + x6 + x7 + x8 + x9\n",
    "\n",
    "num_bins = 13\n",
    "\n",
    "plt.hist(my_sum, num_bins)\n",
    "plt.xlabel('my_sum')\n",
    "plt.ylabel('Probability')\n",
    "plt.title('My Histogram')"
   ]
  },
  {
   "cell_type": "code",
   "execution_count": 42,
   "id": "78a681dc",
   "metadata": {},
   "outputs": [],
   "source": [
    "a = 0\n",
    "b = 0\n",
    "x = 0\n",
    "c = 0\n",
    "p = 0"
   ]
  },
  {
   "cell_type": "code",
   "execution_count": 49,
   "id": "0bbe33a7",
   "metadata": {},
   "outputs": [
    {
     "name": "stdout",
     "output_type": "stream",
     "text": [
      "3 10 0.3\n"
     ]
    }
   ],
   "source": [
    "# Дополните код Монте-Карло последовательности независимых испытаний расчетом соответствующих\n",
    "# вероятностей (через биномиальное распределение)и сравните результаты\n",
    "\n",
    "k, n = 0, 10\n",
    "a = np.random.randint(0, 2, n)\n",
    "b = np.random.randint(0, 2, n)\n",
    "c = np.random.randint(0, 2, n)\n",
    "d = np.random.randint(0, 2, n)\n",
    "x = a + b + c + d\n",
    "for i in range(0, n):\n",
    "    if x[i] == 2:\n",
    "        k += 1\n",
    "print(k, n, k/n)"
   ]
  },
  {
   "cell_type": "code",
   "execution_count": 51,
   "id": "8077a7da",
   "metadata": {},
   "outputs": [
    {
     "name": "stdout",
     "output_type": "stream",
     "text": [
      "120.0\n"
     ]
    }
   ],
   "source": [
    "my_c = math.factorial(n)/(math.factorial(k) * math.factorial(n-k))\n",
    "print(my_c)"
   ]
  },
  {
   "cell_type": "code",
   "execution_count": 52,
   "id": "1bd517ca",
   "metadata": {},
   "outputs": [
    {
     "name": "stdout",
     "output_type": "stream",
     "text": [
      "0.1171875\n"
     ]
    }
   ],
   "source": [
    "p = my_c * (1/2**n)\n",
    "print(p)"
   ]
  },
  {
   "cell_type": "code",
   "execution_count": 53,
   "id": "992a0368",
   "metadata": {},
   "outputs": [],
   "source": [
    "a = 0\n",
    "b = 0\n",
    "x = 0\n",
    "c = 0\n",
    "p = 0\n",
    "k = 0\n",
    "n = 0"
   ]
  },
  {
   "cell_type": "code",
   "execution_count": 54,
   "id": "3a5a3a31",
   "metadata": {},
   "outputs": [
    {
     "name": "stdout",
     "output_type": "stream",
     "text": [
      "5 10 0.5\n",
      "252.0\n",
      "0.24609375\n"
     ]
    }
   ],
   "source": [
    "# Повторите расчеты биномиальных коэффициентов и вероятностей k успехов в последовательности\n",
    "# из n независимых испытаний, взяв другие значения n и k\n",
    "\n",
    "k, n = 0, 10\n",
    "\n",
    "a = np.random.randint(0, 2, n)\n",
    "b = np.random.randint(0, 2, n)\n",
    "c = np.random.randint(0, 2, n)\n",
    "d = np.random.randint(0, 2, n)\n",
    "\n",
    "x = a + b + c + d\n",
    "\n",
    "for i in range(0, n):\n",
    "    if x[i] == 2:\n",
    "        k += 1\n",
    "        \n",
    "print(k, n, k/n)\n",
    "\n",
    "c = math.factorial(n)/(math.factorial(k) * math.factorial(n-k))\n",
    "print(c)\n",
    "\n",
    "p = c * (1/2**n)\n",
    "print(p)"
   ]
  },
  {
   "cell_type": "code",
   "execution_count": null,
   "id": "df2fee8b",
   "metadata": {},
   "outputs": [],
   "source": []
  }
 ],
 "metadata": {
  "kernelspec": {
   "display_name": "Python 3 (ipykernel)",
   "language": "python",
   "name": "python3"
  },
  "language_info": {
   "codemirror_mode": {
    "name": "ipython",
    "version": 3
   },
   "file_extension": ".py",
   "mimetype": "text/x-python",
   "name": "python",
   "nbconvert_exporter": "python",
   "pygments_lexer": "ipython3",
   "version": "3.9.12"
  }
 },
 "nbformat": 4,
 "nbformat_minor": 5
}
